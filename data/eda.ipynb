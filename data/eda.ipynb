{
 "cells": [
  {
   "cell_type": "code",
   "execution_count": 23,
   "metadata": {
    "collapsed": true
   },
   "outputs": [],
   "source": [
    "from sklearn.model_selection import train_test_split\n",
    "from sklearn.feature_extraction.text import CountVectorizer\n",
    "from sklearn.feature_extraction.text import TfidfTransformer\n",
    "from sklearn.naive_bayes import MultinomialNB\n",
    "import pandas as pd\n",
    "import numpy as np"
   ]
  },
  {
   "cell_type": "code",
   "execution_count": 24,
   "metadata": {},
   "outputs": [
    {
     "data": {
      "text/plain": [
       "(33692, 9)"
      ]
     },
     "execution_count": 24,
     "metadata": {},
     "output_type": "execute_result"
    }
   ],
   "source": [
    "df = pd.read_csv('set2.csv')\n",
    "df.head()\n",
    "df.shape\n",
    "\n",
    "\n"
   ]
  },
  {
   "cell_type": "code",
   "execution_count": 28,
   "metadata": {
    "collapsed": true
   },
   "outputs": [
    {
     "name": "stdout",
     "output_type": "stream",
     "text": [
      "                  Unnamed: 0     id  book_title  authors  cover  pub_year  \\\ngenre                                                                       \nadventure                119    119         119      119    119       119   \nbiography                508    508         508      508    508       508   \nbiology                    2      2           2        2      2         2   \nbusiness                  88     88          88       88     88        88   \nchick-lit                129    129         129      129    129       129   \nchildren                1025   1025        1025     1025   1025      1025   \ncomics                   183    183         183      183    183       183   \ncomputer-science           1      1           1        1      1         1   \ncookbook                 105    105         105      105    105       105   \ndrama                    122    122         122      122    122       122   \neconomics                 37     37          37       37     37        37   \nfantasy                 2999   2999        2999     2999   2999      2999   \nfiction                 5032   5032        5032     5032   5032      5032   \nfinance                    9      9           9        9      9         9   \nhealth                    70     70          70       70     70        70   \nhistorical               182    182         182      182    182       182   \nhorror                   507    507         507      507    507       507   \nhumour                    66     66          66       66     66        66   \nmath                      34     34          34       34     34        34   \nmystery                 1583   1583        1583     1583   1583      1583   \nnil                    14363  14363       14363    14363  14363     14363   \nnon-fiction             2584   2584        2584     2584   2584      2584   \nphilosophy               100    100         100      100    100       100   \npolitics                 128    128         128      128    128       128   \npsychology                56     56          56       56     56        56   \nreligion                 115    115         115      115    115       115   \nromance                 1739   1739        1739     1739   1739      1739   \nscience                  193    193         193      193    193       193   \nself-help                 72     72          72       72     72        72   \nsocial-science             5      5           5        5      5         5   \nthriller                 382    382         382      382    382       382   \ntravel                   100    100         100      100    100       100   \nyoung-adult             1054   1054        1054     1054   1054      1054   \n\n                    src  description  \ngenre                                 \nadventure           119          107  \nbiography           508          385  \nbiology               2            1  \nbusiness             88           79  \nchick-lit           129          110  \nchildren           1025          851  \ncomics              183          169  \ncomputer-science      1            1  \ncookbook            105           84  \ndrama               122          106  \neconomics            37           24  \nfantasy            2999         2862  \nfiction            5032         4507  \nfinance               9            6  \nhealth               70           58  \nhistorical          182          161  \nhorror              507          487  \nhumour               66           56  \nmath                 34           23  \nmystery            1583         1460  \nnil               14363        11265  \nnon-fiction        2584         2048  \nphilosophy          100           92  \npolitics            128           89  \npsychology           56           39  \nreligion            115           91  \nromance            1739         1444  \nscience             193          138  \nself-help            72           53  \nsocial-science        5            1  \nthriller            382          362  \ntravel              100           76  \nyoung-adult        1054         1009  \n"
     ]
    }
   ],
   "source": [
    "z=df.groupby(['genre']).count()\n",
    "print(z)\n",
    "\n",
    "\n",
    "\n"
   ]
  },
  {
   "cell_type": "code",
   "execution_count": null,
   "metadata": {},
   "outputs": [],
   "source": []
  }
 ],
 "metadata": {
  "kernelspec": {
   "display_name": "Python 2",
   "language": "python",
   "name": "python2"
  },
  "language_info": {
   "codemirror_mode": {
    "name": "ipython",
    "version": 2
   },
   "file_extension": ".py",
   "mimetype": "text/x-python",
   "name": "python",
   "nbconvert_exporter": "python",
   "pygments_lexer": "ipython2",
   "version": "2.7.6"
  }
 },
 "nbformat": 4,
 "nbformat_minor": 0
}
