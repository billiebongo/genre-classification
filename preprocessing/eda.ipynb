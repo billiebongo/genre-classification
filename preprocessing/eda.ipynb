{
 "cells": [
  {
   "cell_type": "code",
   "execution_count": 1,
   "metadata": {
    "collapsed": true
   },
   "outputs": [
    {
     "name": "stdout",
     "output_type": "stream",
     "text": [
      "ok\n"
     ]
    }
   ],
   "source": [
    "from sklearn.model_selection import train_test_split\n",
    "from sklearn.feature_extraction.text import CountVectorizer\n",
    "from sklearn.feature_extraction.text import TfidfTransformer\n",
    "from sklearn.naive_bayes import MultinomialNB\n",
    "from sklearn.naive_bayes import GaussianNB\n",
    "import pandas as pd\n",
    "import numpy as np\n",
    "\n",
    "from sklearn.feature_extraction.text import CountVectorizer\\\n",
    "\n",
    "import pandas as pd\n",
    "import numpy as np\n",
    "import matplotlib.pyplot as plt\n",
    "%matplotlib inline\n",
    "import seaborn as sns\n",
    "import re\n",
    "\n",
    "import pickle \n",
    "#import mglearn\n",
    "import time\n",
    "\n",
    "\n",
    "from nltk.tokenize import TweetTokenizer # doesn't split at apostrophes\n",
    "import nltk\n",
    "from nltk import Text\n",
    "from nltk.tokenize import regexp_tokenize\n",
    "from nltk.tokenize import word_tokenize  \n",
    "from nltk.tokenize import sent_tokenize \n",
    "from nltk.corpus import stopwords\n",
    "from nltk.stem import WordNetLemmatizer\n",
    "from nltk.stem import PorterStemmer\n",
    "\n",
    "\n",
    "from sklearn.feature_extraction.text import CountVectorizer\n",
    "from sklearn.feature_extraction.text import TfidfVectorizer\n",
    "from sklearn.linear_model import LogisticRegression \n",
    "from sklearn.naive_bayes import MultinomialNB\n",
    "from sklearn.multiclass import OneVsRestClassifier\n",
    "\n",
    "\n",
    "from sklearn.model_selection import cross_val_score\n",
    "from sklearn.model_selection import train_test_split\n",
    "from sklearn import metrics\n",
    "from sklearn.metrics import classification_report\n",
    "from sklearn.metrics import confusion_matrix\n",
    "from sklearn.model_selection import GridSearchCV\n",
    "from sklearn.pipeline import make_pipeline\n",
    "\n",
    "\n",
    "\n",
    "from clean_data import clean_description as clean_des\n",
    "print(\"ok\")\n"
   ]
  },
  {
   "cell_type": "code",
   "execution_count": 2,
   "metadata": {},
   "outputs": [
    {
     "name": "stderr",
     "output_type": "stream",
     "text": [
      "/home/sloth/anaconda3/lib/python3.6/site-packages/IPython/core/interactiveshell.py:2698: DtypeWarning: Columns (5,15,16,17,18,19,20,21,22,23,24,25,26,27,28,29,30,31,32,33,34,35,36,37,38,39,40,41,42,43,44,45,46,47,48,49,50,51,52,53,54,55,56,57,58,59,60,61,62,63,64,65,66,67,68,69,70,71,72,73,74,75,76,77,78,79,80) have mixed types. Specify dtype option on import or set low_memory=False.\n  interactivity=interactivity, compiler=compiler, result=result)\n"
     ]
    },
    {
     "name": "stdout",
     "output_type": "stream",
     "text": [
      "Index(['id', 'book_title', 'authors', 'cover', 'pub_year', 'src', 'genre',\n       'description'],\n      dtype='object')\nIndex(['id', 'book_title', 'authors', 'cover', 'pub_year', 'src', 'genre',\n       'description'],\n      dtype='object')\n(45737, 8)\n<class 'pandas.core.frame.DataFrame'>\n"
     ]
    }
   ],
   "source": [
    "df = pd.read_csv('../data/set2.csv').iloc[:,1:9]\n",
    "print(df.columns)\n",
    "df2 = pd.read_csv('../data/set3.csv').iloc[:,1:9]\n",
    "print(df2.columns)\n",
    "df=df.append(df2, ignore_index=True)\n",
    "print(df.shape)\n",
    "df.head()\n",
    "\n",
    "\n",
    "#shld change all scifi to science-fiction\n",
    "df.columns\n",
    "print(type(df.head()))\n",
    "df.groupby('genre').describe()\n",
    "\n",
    "GENRE_LIST = [\"children\", \"fantasy\", \"young-adult\", \"self-help\", \"religion\", \"math\", \"historical\", \"science\", \n",
    "              \n",
    "              \"comics\", \"travel\", \"horror\", \"economics\", \"scifi\", \"history\", \\\n",
    "              \"business\", \"religion\", \"romance\",  \"philosophy\", \"humour\", \"finance\",\n",
    "              \"mystery\", \"thriller\", \"chick-lit\",  \"biography\", \"politics\",  \"art\", \"cookbook\",\n",
    "              \"drama\", \"adventure\"]#,  \"fiction\", \"non-fiction\"]\n",
    "\n"
   ]
  },
  {
   "cell_type": "code",
   "execution_count": 3,
   "metadata": {
    "collapsed": true
   },
   "outputs": [
    {
     "name": "stdout",
     "output_type": "stream",
     "text": [
      "6443\n"
     ]
    },
    {
     "name": "stdout",
     "output_type": "stream",
     "text": [
      "43.95615671641791\n"
     ]
    },
    {
     "name": "stderr",
     "output_type": "stream",
     "text": [
      "/home/sloth/anaconda3/lib/python3.6/site-packages/pandas/core/indexing.py:179: SettingWithCopyWarning: \nA value is trying to be set on a copy of a slice from a DataFrame\n\nSee the caveats in the documentation: http://pandas.pydata.org/pandas-docs/stable/indexing.html#indexing-view-versus-copy\n  self._setitem_with_indexer(indexer, value)\n"
     ]
    },
    {
     "data": {
      "text/plain": [
       "genre\nadventure      42.482490\nart            45.986842\nbiography      40.417508\nbusiness       43.983871\nchick-lit      43.150160\nchildren       39.871852\ncomics         42.685990\ncookbook       37.890511\ndrama          43.709804\neconomics      38.102941\nfantasy        45.990483\nfinance        43.676471\nhistorical     46.148459\nhistory        45.808296\nhorror         46.703297\nhumour         42.243781\nmath           33.339623\nmystery        44.355021\nphilosophy     41.321429\npolitics       40.306897\nreligion       42.656364\nromance        41.504120\nscience        38.938095\nscifi          49.805556\nself-help      37.466258\nthriller       45.876645\ntravel         42.375000\nyoung-adult    47.205128\nName: count_word, dtype: float64"
      ]
     },
     "execution_count": 3,
     "metadata": {},
     "output_type": "execute_result"
    }
   ],
   "source": [
    "\n",
    "print(df['description'].isnull().sum())\n",
    "df = df[df['genre'].isin(GENRE_LIST)]\n",
    "\n",
    "\n",
    "df['count_word']=df[\"description\"].apply(lambda x: len(str(x).split()))\n",
    "\n",
    "\n",
    "df['count_word'].loc[df['count_word']>50] = 50\n",
    "print(df['count_word'].mean())\n",
    "\n",
    "z=df.groupby(['genre'])[\"count_word\"].mean()\n",
    "z\n",
    "\n",
    "\n",
    "\n",
    "\n",
    "\n"
   ]
  },
  {
   "cell_type": "code",
   "execution_count": 4,
   "metadata": {
    "collapsed": false
   },
   "outputs": [
    {
     "name": "stdout",
     "output_type": "stream",
     "text": [
      "(21440, 9)\n"
     ]
    }
   ],
   "source": [
    "print(df.shape)\n",
    "\n",
    "#X_train_counts = count_vect.fit(df['description'].values.astype('U'))\n",
    "#print(X_train_counts.get_feature_names())\n",
    "#X_train_counts= count_vect.transform(df['description'].values.astype('U'))\n",
    "\n"
   ]
  },
  {
   "cell_type": "code",
   "execution_count": 5,
   "metadata": {},
   "outputs": [
    {
     "name": "stdout",
     "output_type": "stream",
     "text": [
      "hello\n"
     ]
    },
    {
     "name": "stdout",
     "output_type": "stream",
     "text": [
      "ohno\n(21440, 9)\n(19643, 9)\n"
     ]
    }
   ],
   "source": [
    "tf = TfidfVectorizer(smooth_idf=False, min_df=2, max_df=0.8,sublinear_tf=False, norm=None, analyzer='word')\n",
    "print(\"hello\")\n",
    "df['description']=(df['description'].apply(clean_des))\n",
    "\n",
    "#df['book_title']=(df['book_title'].apply(clean_description))\n",
    "print('ohno')\n",
    "print(df.shape)\n",
    "df = df[df.description!=\"\"]\n",
    "df = df[df.description!=np.nan]\n",
    "print(df.shape)\n",
    "\n",
    "txt_fitted=tf.fit(df['description'].values.astype('U'))\n",
    "\n",
    "txt_transformed = txt_fitted.transform(df['description'].values.astype('U'))\n",
    "\n",
    "idf = tf.idf_\n",
    "\n",
    "#print(dict(zip(txt_fitted.get_feature_names(), idf)))\n"
   ]
  },
  {
   "cell_type": "code",
   "execution_count": 6,
   "metadata": {},
   "outputs": [
    {
     "name": "stdout",
     "output_type": "stream",
     "text": [
      "Features with lowest idf:\n['one' 'life' 'new']\n"
     ]
    }
   ],
   "source": [
    "\n",
    "feature_names = np.array(tf.get_feature_names())\n",
    "sorted_by_idf = np.argsort(tf.idf_)\n",
    "print(\"Features with lowest idf:\\n{}\".format(\n",
    "       feature_names[sorted_by_idf[:3]]))"
   ]
  },
  {
   "cell_type": "code",
   "execution_count": 7,
   "metadata": {},
   "outputs": [],
   "source": [
    "x = df['description']\n",
    "y = df['genre']  \n",
    "\n",
    "\n",
    "X_train, X_test, y_train, y_test = train_test_split(x, y, test_size= 0.1, random_state=13)"
   ]
  },
  {
   "cell_type": "code",
   "execution_count": 8,
   "metadata": {},
   "outputs": [
    {
     "name": "stdout",
     "output_type": "stream",
     "text": [
      "(17678,)\n(17678,)\n"
     ]
    }
   ],
   "source": [
    "print(X_train.shape)\n",
    "print(y_train.shape)\n"
   ]
  },
  {
   "cell_type": "code",
   "execution_count": 9,
   "metadata": {},
   "outputs": [
    {
     "name": "stdout",
     "output_type": "stream",
     "text": [
      "OK!\n"
     ]
    }
   ],
   "source": [
    "\n",
    "\n",
    "# Instantiate the vectorizer\n",
    "word_vectorizer = TfidfVectorizer(min_df=2, max_df=0.8,\n",
    "    stop_words='english',\n",
    "    sublinear_tf=True,\n",
    "    strip_accents='unicode',\n",
    "    analyzer='word',\n",
    "    token_pattern=r'\\w{2,}',  #vectorize 2-character words or more\n",
    "    ngram_range=(1, 1),\n",
    "    max_features=300000)\n",
    "# fit and transform on it the training features\n",
    "print(\"OK!\")\n",
    "word_vectorizer.fit(X_train)\n",
    "X_train_word_features = word_vectorizer.transform(X_train)\n",
    "\n",
    "#transform the test features to sparse matrix\n",
    "test_features = word_vectorizer.transform(X_test)\n",
    "\n"
   ]
  },
  {
   "cell_type": "code",
   "execution_count": 10,
   "metadata": {},
   "outputs": [
    {
     "name": "stdout",
     "output_type": "stream",
     "text": [
      "done w gridsearch2\n"
     ]
    }
   ],
   "source": [
    "# Create regularization penalty space\n",
    "penalty = ['l1', 'l2']\n",
    "\n",
    "# Create regularization hyperparameter space\n",
    "C = np.logspace(0, 4, 10)\n",
    "\n",
    "# Create hyperparameter options\n",
    "hyperparameters = dict(C=C, penalty=penalty)\n",
    "\n",
    "logistic = LogisticRegression()\n",
    "classifier = GridSearchCV(logistic, hyperparameters, cv=5, verbose=0)\n",
    "print(\"done w gridsearch2\")"
   ]
  },
  {
   "cell_type": "code",
   "execution_count": 11,
   "metadata": {},
   "outputs": [],
   "source": [
    "\n"
   ]
  },
  {
   "cell_type": "code",
   "execution_count": 11,
   "metadata": {},
   "outputs": [
    {
     "name": "stdout",
     "output_type": "stream",
     "text": [
      "hel2p\n"
     ]
    }
   ],
   "source": [
    "print(\"hel2p\")\n"
   ]
  },
  {
   "cell_type": "code",
   "execution_count": 12,
   "metadata": {},
   "outputs": [
    {
     "name": "stdout",
     "output_type": "stream",
     "text": [
      "begin3\n"
     ]
    },
    {
     "name": "stdout",
     "output_type": "stream",
     "text": [
      "begin3\ntest!!!!!!!!!!!!!!!!\n"
     ]
    },
    {
     "name": "stdout",
     "output_type": "stream",
     "text": [
      "CV Accuracy score is 0.7352247138165126\ngridsearchCV done\nBest Penalty: l2\nBest C: 59.9484250319\n"
     ]
    }
   ],
   "source": [
    "print(\"begin3\")\n",
    "best_model=classifier.fit(X_train_word_features, y_train)\n",
    "print(\"begin3\")\n",
    "y_pred = classifier.predict(test_features)\n",
    "y_pred_prob = classifier.predict_proba(test_features)[:, 1]\n",
    "print(\"test!!!!!!!!!!!!!!!!\")\n",
    "cv_score = np.mean(cross_val_score(classifier, X_train_word_features, y_train,\n",
    "                                   cv=5,scoring='accuracy'))\n",
    "print('CV Accuracy score is {}'.format( cv_score))\n",
    "print(\"gridsearchCV done\")\n",
    "# View best hyperparameters\n",
    "print('Best Penalty:', best_model.best_estimator_.get_params()['penalty'])\n",
    "print('Best C:', best_model.best_estimator_.get_params()['C'])\n"
   ]
  },
  {
   "cell_type": "code",
   "execution_count": 13,
   "metadata": {},
   "outputs": [
    {
     "name": "stdout",
     "output_type": "stream",
     "text": [
      "best\nBest pen: {'C': 59.948425031894089, 'class_weight': None, 'dual': False, 'fit_intercept': True, 'intercept_scaling': 1, 'max_iter': 100, 'multi_class': 'ovr', 'n_jobs': 1, 'penalty': 'l2', 'random_state': None, 'solver': 'liblinear', 'tol': 0.0001, 'verbose': 0, 'warm_start': False}\n"
     ]
    }
   ],
   "source": [
    "print(\"best\")\n",
    "print('Best pen:', best_model.best_estimator_.get_params())\n"
   ]
  },
  {
   "cell_type": "code",
   "execution_count": 14,
   "metadata": {},
   "outputs": [
    {
     "name": "stdout",
     "output_type": "stream",
     "text": [
      "1965\n<class 'pandas.core.series.Series'>\n<class 'numpy.ndarray'>\nsecret instant height stand box want make money go roll hill answer smelly foot wear clothes pin nose johnny swanson business raking money advertising scam advice columnist persona offer advice absolutely anything return shilling scheme getting deep wrong kind people everything spiralling control mother mortal danger one thing done johnny must assume another role undercover detective spirit roald dahl funny delightful story satisfying mystery wonderful cast character unlikely completely likeable hero hardcover edition\nground truth: mystery\npredict: mystery\nwin curtain close war girl boy summer vacation almost one year buckman look like malloy girl going home ohio hatford boy relieved finally rid eddie beth caroline also known womper weirdo crazy clock tick away final day jake eddie keep competing tricking scheming eddie put jake biggest dare year want prove girl charge jake ca back away let girl declare victory wacky war began day girl arrived yet hardcover edition\nground truth: children\npredict: young-adult\nstormy night little yann doutreleau wake six older brother twin let know must flee home risk killed violent father without question sibling follow yann wet darkness begin remarkable odyssey toward ocean well unforgettable story brotherhood social worker investigating doutreleau family truck driver give boy lift police officer belief run away baker give bread many people seven boy encounter give stirring account witness twin add voice doutreleau parent end journey little yann express reason galvanizing action hardcover edition\nground truth: young-adult\npredict: young-adult\ndetective inspector lorne simpkins come nemesis unicorn leading simpkins partner trap pete killed lorne come conclusion criminal obtaining insider information enabling stay one step ahead lorne uncover mole unicorn harm daughter\nground truth: thriller\npredict: mystery\nrediscovered gem illustrator roger duvoisin perfect new generation little girl love doll city paris beautiful lonely doll sits shelf antique shop surrounded old vas teapot longs friend play one little girl would dearly love doll marie could never afford precious item marie settle admiring doll window way home school marie doll clearly meant one another marie make sure doll home loved first published long print rediscovered gem roger duvoisin wife louise fatio available ready read little new generation\nground truth: children\npredict: children\njeweller garet james everyone else know yet fair share problem money lack elderly father struggling business garet like young feisty single new yorker simple begin old silver box soldered shut garet open favour frail owner antique shop would help thing start change garet notice first shift barely perceptible city grew beginning reveal side darker altogether dangerous parallel world chaos smoke blood box intention going back\nground truth: fantasy\npredict: fantasy\nnew paperback edition lauren beukes arthur c clarke novel set world murderer criminal acquire magical animal mystically bonded zinzi sloth back dirty scam habit talent finding lost thing little old lady turn dead cop confiscate last paycheck zinzi forced take least favorite kind job missing person hired reclusive music producer odi huron find teenybop pop star ticket zoo city festering slum criminal underclass animal companion live shadow hell undertow instead catapult zinzi deeper maw city twisted crime magic forced confront dark secret former life including\nground truth: fantasy\npredict: fantasy\nsuicide kate browdy sick father knocked immune system deal virus seven year fighting leukemia destroying deal strong like survival instinct kick call ellie numb pain even pain girl good good freaking disaster kate deserves better maybe time cut loss\nground truth: romance\npredict: young-adult\ncompendium creation singleearth bruja guild midnight empire intertwine exciting unsettling plot featuring happening accidental deliberate forever change alternate landscape inhabited vampire tristes shapeshifters et al begin wrong turn crashed party epic clash element promise chaos still come center storm jay young vampire hunter one would ever predicted might earth best bet thwart rise slave empire called midnight teen find drawn jay struggle prove worth even fear written may right\nground truth: young-adult\npredict: young-adult\ncorridor chicago top law firm twenty adam hall stand brink brilliant legal career risking killer impossible case maximum security unit mississippi state prison sam cayhall former klansman unrepentant racist facing death penalty fatal bombing run chance except one young liberal chicago lawyer happens grandson executioner prepare gas chamber protester gather tv camera wait adam day hour minute save client two men chasm shame family lie secret including one secret could save sam cayhall life cost adam hardcover edition\nground truth: mystery\npredict: mystery\nstewart jameson scottish portrait painter fleeing debtor edinburgh washed british empire far city boston lately seized spirit liberty eager begin anew advertises apprentice lad come knocking lad fanny easton fallen woman boston prominent family disguised boy become jameson defiant seductive apprentice written wit exuberance accomplished historian blindspot affectionate best fiction celebrates art enlightenment passion american revolution telling story ordinary people caught extraordinary time\nground truth: historical\npredict: historical\nbaby bear meet sort different animal finally find looking mother told bill martin rhythmic text eric carle image title final companion classic bear brown bear see\nground truth: children\npredict: children\nirresistible tale life lived fully always wisely liam clancy legendary irish group clancy brother describes eventful journey small town ireland heart new york music scene following grand tradition irish memoir angela ash somebody liam clancy relates life story raucously funny account moving provincial ireland bar club new york city cusp fame member tommy makem clancy brother born eleventh many child young liam naive innocent lad old country memory childhood include bounding hill stream occasional mountain getting lost eventually found making mischief way typical irish boy aimless clancy met strange wonderfully energetic lover music diane\nground truth: biography\npredict: biography\nknow enemy good kate always thought everything changed new force head thrall collective force brilliant enough ruthless enough hide sinister plan behind humanitarian funding halfway house ease victim drug thrall back society kate discovers another part plan rescinding rule fair play thrall always dealt human kate longer prey like everyone else prey uncovering plot start stopping another thing entirely kate must call resource belong werewolf boyfriend tom thrall collective brand new way getting kate personal series attack designed tear tom kate decide save relationship tom save future thrall\nground truth: romance\npredict: romance\ndavid davy crockett born tennessee fought alongside andrew jackson war later served three term house representative heading texas died defending alamo crockett exploit adventure texas first published crockett death disingenuously attributed written richard penn smith narrative promoted sanitized account alamo heroic effort american stem mexican invasion texas story huge success day created myth battle pervaded collective american memory year reinforced image davy crockett king frontier\nground truth: history\npredict: history\nsuomen kansalliseepos kalevala perustuu elia lonnrotin kokoamiin kansanrunoihin ne ovat kalevalaista runoutta eli ne tehty kalevalaiseen runomittaan kalevalan luomismyytin mukaan maailma syntyi sotkan munasta kalevala kuvaa muun muassa kalevalan ja pohjolan kansojen seka eri paahenkiloiden valisia kiistoja kostoreissuja ja kosiomatkoja seka sammon rakentamista ja ryostoa tapahtumat paattyvat kristinuskon tuloon\nground truth: fantasy\npredict: children\nsay everything marrying kind take home mom kind three brother meet tempting woman take tame inner bad boy rand tragedy struck six year ago rand buried left heart phoebe garrison giving got enticing deal coveted deed property company need exchange one hot week bed offer even brooding rand ca refuse every hunger explored every secret revealed rand know need one week indulge fantasy amazing woman colton waking vega next naked showgirl named fayre scorching night passion put smile colton denning discovers new wife could stable workaholic colton married unpredictable force nature woman likely throw pottery kiss come tend\nground truth: romance\npredict: romance\nmichael johnston brings first new epic fantasy series inspired ancient egyptian history king lear ruling family soleri empire power longer even calendar stretch back year record tell history conquest domination people descended god older anything known world living person seen century yet grip four subjugate kingdom remains tighter ever day annual eclipse harkan king wadi set hunt shirks duty rather bow emperor ren son heir prisoner capital daughter struggle chain merit eldest found way stand imperial law marry man desire need sister help kepi idea meanwhile sarra amunet mother priestess sun god cult hold key end empire\nground truth: fantasy\npredict: fantasy\nmemo john mccain please please read book help win election guide republican shaping political future memo democrat read book going political book republican better choose ignore william kristol editor weekly standard provocative challenge republican conventional wisdom two right rising young thinker call upon gop focus interest need voter grand new party lay bare failure conservative revolution present detailed blueprint building next republican majority blending history analysis fresh often controversial recommendation ross douthat reihan salam argue time move beyond reagan legacy current republican power structure concise examination recent political trend author show democrat cultural liberali\nground truth: politics\npredict: politics\nelizabeth bear concludes epic fantasy trilogy temur exiled heir grandfather khaganate finally raised banner declared war usurping uncle wizard samarkar hrahima silent monk brother must make way dragon lake gather army follower temur many enemy idle sorcerer lead nameless assassin whose malice shattered peace empire celedon highway struck temur uncle already south rasan empire magical plague rage east great city asmaracanda burned uthman caliph deposed hidden ancient empire erem temur son born new moon risen eternal sky\nground truth: fantasy\npredict: fantasy\ncentury exclusivity quatra fleet academy finally accepts student settler planet forcing four teenager different background different ambition motif mission work together outmaneuver mysterious alien enemy\nground truth: young-adult\npredict: fantasy\nnewton yet year old formulated calculus hit upon idea gravity discovered white light made color spectrum newton designed atelescope study movement planet published principia milestone history science set forth famous law motion universal gravitation research calculus finally made public triggered heated controversy european scientist accused plagiarizing work german scientist gottfried leibniz inthis third volume acclaimed ackroyd brief life series bestselling author peter ackroyd provides engaging portrait isaac newton illuminating think know describing hisseminal contribution science mathematics man wide eclectic interest newton blurred border natural philosophy speculation passionate astrology\nground truth: biography\npredict: science\nnew york time bestselling author countdown return suspense thriller pit mother son killer stuff nightmare close eye get sophie dunston know well dream kill one nation top sleep therapist specializes night terror son michael suffers also expert another kind kind turn dream life living nightmare blink eye someone watching shadowy figure darkest fear forgotten one shocking moment violence shattered sophie world forever left one thing live son nightmare sophie dunston begun waiting sophie supposed die first time around fate intervened time make sure even miracle save\nground truth: mystery\npredict: thriller\nreturn uncanny valley remarkable town supposedly destroyed paranormal normal unusual traditional reach past extraordinary bundle journal document chronicle season community darkest hour uncanny valley tranquility shattered greed distrust offer full scale buyout tarkington mining yet resident take blind ben driscoll advise sell even greater shadow quickly descends one us human weakness weapon purpose darker anyone imagine together norton wei emmett fielding roger burlington try counter growing incidence intimidation destruction evening unspeakly brutal murder whole town living dead strike back using every strange skill hidden secret disposal darkness valley author gregory mill\nground truth: fantasy\npredict: fantasy\nkid husband always road katharine murray nest would empty aunt elderly woman dy katharine saddled aunt worldly knickknack destined dumpster priceless celtic necklace among diary written german neither katharine ever seen determined find object came katharine unwittingly discovers branch family tree never knew aunt lucy brother carter murdered fifty year ago mysterious trip austria lucy artifact stolen main suspect turn dead katharine realizes must solve burglary two unsolved homicide separated family secret end dead buried\nground truth: mystery\npredict: mystery\nfearless men allegiance one another oppressed secret society known brotherhood must never surrender passionate yearning noble heart lady love beautiful rowena know stryder blackmoor warrior therefore man shunned something burn eye powerful knight never seen others kind tenderness need love loved yet enter world would every principle lived must resist yearning would draw arm man war duty bound battle right stryder never desired comfort home gazed upon exquisite face form incomparable rowena dare succumb sensuous charm stryder man sworn know love treachery danger threaten noble knight must stand\nground truth: romance\npredict: romance\npeople know way discipling mind attain focused resourceful sober thinking utmost mental health\nground truth: self-help\npredict: children\nvein psychological thriller like liar girl train beware girl bestselling author caroline cooney janie series delivers every level mystery suspense blend seamlessly issue family friendship love offer emotionally evocative thrill ride read kidnapping long past johnson spring way restoring life janie ever grateful devoted boyfriend helped janie try balance two family feel torn seems thing keeping together love reeve away college janie miss terribly reeve college life seems overwhelming disc jockey college radio station discovering dead air kill fill silence find spilling janie story airwave reeve sure janie never find making br\nground truth: young-adult\npredict: young-adult\none important opening path modern computer made british mathematician alan turing remarkably solving entirely different problem shy insecure origin considered eccentric know well turing could show close sly humor bracing candor even homosexuality also one keenest mind twentieth century turing famous doctoral dissertation tackled one great mathematical challenge time decidability problem proposing imaginary programmable calculating machine idea actually producing turing machine crystallize turing brilliant bletchley park colleague built device crack nazi enigma code thus ensuring ally victory world war ii along way turing crossed path greatest mind time including john von neumann ludwig w\nground truth: biography\npredict: science\nten thousand year ago human fairy fought great battle magical island ireland became clear could win faery moved except family demon rather surrender used magical time spell take colony time limbo lived decade planning violent revenge human time spell unraveling demon beginning materialize without warning earth human find faery would exposed protect faery must predict next demon materialize order decipher temporal equation complicated even great brain like foaly ca understand know someone artemis fowl confused frightened demon imp pop appears sicilian theater artemis meet alone someone else unlock\nground truth: fantasy\npredict: fantasy\nnew york time bestselling author chris colfer come funny heartbreaking unforgettable novel friendship fame cash carter young world famous lead actor hit television wiz kid four fan jokingly invite road trip shocked actually take chased paparazzo hounded reporter unlikely crew take journey lifetime along way discover star love deep secret keeping come learn life mysterious person thought knew teach power empathy unbreakable bond true friendship touching novel new york time bestselling author chris colfer take u journey full laughter tear memory\nground truth: young-adult\npredict: young-adult\nstory katherine kassler daughter britain powerful businessman search success take deep sinister world political corruption professional struggle give way personal fight family honor\nground truth: romance\npredict: young-adult\nbook unique religious dialogue span age looking back two millennium time jesus taking jesus seriously term author neusner explains hear jesus sermon mount would said good substantive reason follow\nground truth: religion\npredict: religion\nthird book major series bestselling science fiction author printz award winner national book award finalist gripping story provocative character acclaimed novel ship breaker drowned city tool designed combat capable much creator ever dreamed gone rogue pack bioengineered augments emerged victorious leader pack human soldier boy hunted relentlessly someone determined destroy know alarming secret tool found way resist genetically ingrained impulse submission loyalty toward master time coming tool embark war enslaved one science fiction undisputed master come riveting pull punch suzanne collins may put dystopian literature ya map hunger game bacigal\nground truth: young-adult\npredict: young-adult\nparting gift new beginning julia lovat walk away affair michael broken heart book secret book tell true story cat tregenna kidnapped barbary pirate sold slavery morocco four hundred year ago julia travel morocco discover cat fate quickly lost exotic vibrant land yet guide idriss man charismatic beguiling meeting feel like destiny heat dust two love story separated four century entwine blossom tenth gift enthralling story secret discovering love least expect\nground truth: historical\npredict: fantasy\nbreakthrough organization man century bestselling author art kleiner reveals every organization driven desire satisfy core group influential individual explains understanding group expectation key success corporate leader announce seeming sincerity make decision behalf shareholder word taken face value recent news story prove imperative routinely violated really matter art kleiner argues dissonance declared mission actual operation seen organization large small organization one motive common every project back promote spend affected perceived want need core group people really composition group differ organization organization often senior people hierarchy\nground truth: business\npredict: business\npick newspaper anywhere day find report illegal migrant drug bust smuggled weapon laundered money counterfeit good illicit trade booming trafficker political influence hamstrung bureaucracy rich poor country alike losing battle agile politically powerful network determined individual religious political zeal drive terrorist turn simple profit le motivator political upheaval international instability network stealthily transforming global politics economics filled vivid example real surprising illicit show got dangerous stress interconnection illegal enterprise endlessly recombine breed new line business distort economy entire country industry\nground truth: economics\npredict: economics\ngreat war stopped tyrant geder palliako led nation war every victory called forth another conflict greater war spread bent bringing peace matter many people kill cithrin bel sarcour rogue banker medean bank returned fold apprenticeship placed path war greater danger one past soul widowed disgraced heart empire clara kalliam become loyal traitor defending nation shadow world captain marcus wester track ancient secret change war way even forsee return critically acclaimed epic master storyteller daniel abraham dagger coin\nground truth: fantasy\npredict: fantasy\nuse school library fun realistic sometimes poignant story two teen ups down relationship written alternating perspective book show petty difference overcome\nground truth: young-adult\npredict: young-adult\nliving paycheck paycheck need budget need second job even need raise need money strategy explained book carol keefe helped thousand people take control financial future realize fondest dream money solution inspiring easy instantly practical explains get dept paying minimum credit cardsand much sound good true listen people benefited carol money strategy barely got month month saving plan three year husband two child gone two income one saved managing one income saving reach next goal teresa peter sparling went europe disneyland paid everything cash income cut hal\nground truth: finance\npredict: chick-lit\ndavina glentyre trial murder father happy life edinburgh vanished wake mother recent death father seemed strangely different dismissing davina devoted governess abruptly hiring unlikely replacement lusty zillah grey soon became new glentyre court return ambiguous verdict proven davina understands leave beloved scotland secret travel reputation stake life unsinkable holt strike brisk buoyant ever carrying tonnage people perplexity ease kirkus review\nground truth: romance\npredict: young-adult\nslowly slowly slowly way sloth move slowly eats slowly fall asleep strange kind creature animal wonder run fly play hunt like rest u slow howler monkey inquires sloth answer question jaguar asks lazy anyone ever felt busy appreciate sloth peaceful lifestyle realize okay take time enjoy life eric carle dazzling collage illustration introduce reader exotic beauty amazon rain forest many unusual animal living\nground truth: children\npredict: children\ninspiring parable greatest leadership lesson best leader go beyond tenet golden rule help others better many people assume timeless principle genuine helping others achieve full apply monday friday work hour circumstance paycheck involved greater steve farber prof wrong powerful story farber show goal true leadership help employee capable confident accomplished leader action extraordinarily successful ceo farber reveals three key achieving call gty expand give replicate filled idea actionable principle greater offer powerful message today busi\nground truth: business\npredict: business\ncaptivating story behind schindler list booker book academy spielberg film keneally tell tale unlikely encounter propelled write oskar schindler impact extraordinary account people around world thomas keneally met leopold poldek pfefferberg owner beverly hill luggage shop poldek polish jew holocaust survivor tale wanted world know charming charismatic persistent convinced keneally relate incredible story nazi oskar schindler jesus searching schindler engrossing chronicle keneally pursuit one history fascinating paradoxical hero traveling throughout united state germany israel poland austria keneally poldek interviewed people known schindler uncovered\nground truth: history\npredict: history\nemotionally devastating suspense novel bestselling author velocity husband good guy amy redwing recklessly risk everything chosen field dog rescue confronts violent drunk order rescue nickie beautiful golden retriever amy misgiving dog always best whatever take riding shotgun nervously friend lover brian architect would marry committed crazy heroic blame work refusal marry everything due change redwing household someone trying destroy amy subtle intrusion escalate terrifying assault everything hold dear amy belief attacker wes greeley released stretch thanks amy testimony egregious animal cruelty greeley culprit clear working alone last amy understands need\nground truth: horror\npredict: romance\ncalvin life near beach oahu mom little sister mom say man calvin great man house taking care responsibility busy fun pal avoiding tito bully trouble magnet first book new series younger reader full fun growing hawaii introduces wonderful multicultural cast character including purdy call class boot camp uncle scoop run lunch wagon beach ledward mom boyfriend gorgeous intimidating arrives step calvin turf\nground truth: children\npredict: children\nbeauty england could outshine elizabeth cameron countess havenhurst beneath exquisite emerald eye cloud golden hair lived girl rare gentleness good humour splendid even ferocious courage ian thornton powerful embrace elizabeth felt first stirring passion blazed sens yet thornton dangerously handsome man secret wealth mysterious lineage voyage elizabeth heart fraught intrigue scandal venomous jealousy elegant salon london wild beauty scottish highland tempestuous dramatic romance played romance two lover destined even though refused admit\nground truth: romance\npredict: romance\nmad rage death son marquis lebellond turned force marquis glenn forcing remaining hero choose action carefully terrible war hero unfolds however even lebellond ally safe wrath imprisons would help commits countless atrocity desire triumph glenn blind action may cast chance empire also land already rule\nground truth: fantasy\npredict: fantasy\never since meiko regressed childlike state lost monstrous strength made ultimate jailer ever kiyoshi mari need bring back old meiko revive former shadow student council vice president buried deep within take official student council\nground truth: romance\npredict: horror\nyates futurist say make good living flying around world dispensing premonitory wisdom world government corporation global leadership conference optimist trade cynic choice kind man give lecture successive day leading pesticide manufacturer organic farmer america receive standing ovation american empire beginning fray around edge yates carefully scripted existence way futureworld conference johannesburg open handwritten note girlfriend informing left history teacher witness soccer riot five south african killed chagrin south african people futureworld fueled heroic devastation minibar inspired rookie hooker sent hotel room host yates compose\nground truth: business\npredict: business\ncaldecott honor winning illustrator give classic fairy tale brand new setting night night twelve princess mysteriously wear shoe king promise great reward man solve mystery rachel isadora revitalized reimagined brother grimm fairytale bringing story twelve princess africa unique presentation classic tale sure enchant reader vibrant imagery\nground truth: children\npredict: children\nberlin bruno return home school one day discovers belonging packed crate father received promotion family must move home new house far far away one play nothing tall fence running alongside stretch far eye see cut strange people see distance bruno longs explorer decides must desolate new place meet eye exploring new environment meet another boy whose life circumstance different meeting result friendship devastating consequence\nground truth: young-adult\npredict: young-adult\nbank cloud assembling horizon jon krakauer standing summit mt everest saw nothing suggested murderous storm bearing wrong storm claimed five life left countless including krakauer disarray would also provide impetus thin air krakauer epic account may disaster\nground truth: adventure\npredict: adventure\nlucy owen meet somewhere tenth eleventh floor new york city apartment building elevator rendered useless citywide blackout rescued spend single night together wandering darkened street marveling rare appearance star manhattan power restored reality lucy soon move edinburgh parent owen head west father lucy owen relationship play across globe stay touch postcard occasional reunion city first met carefully charted map relationship jennifer smith new novel show center world necessarily place person\nground truth: young-adult\npredict: young-adult\nprincess twilight sparkle busy preparation equestria first ever friendship festival foreign power planning attack storm king sent trusted lieutenant tempest unicorn broken scout former home tempest always eager villain bidding find sweet kind pony became one feared throughout land get ready little pony movie coming theater october join twilight sparkle rainbow dash pinkie pie applejack rarity fluttershy adventure life hasbro right reserved\nground truth: fantasy\npredict: fantasy\nwait conclusion john marsden thrilling ellie chronicle ellie fighter faith ability superwoman battle gun bullet never faced enemy ruthless brutal whether friend side stand alone ellie enemy everywhere life know change john marsden explosive finale ellie chronicle push ellie edge tense gripping completely surprising conclusion\nground truth: young-adult\npredict: young-adult\nserving congress thirty year congresswoman senator senator boxer proven passionate advocate significant issue time including military civil right universal health care environment politics past three decade boxer show machination take make government work much record featuring figure beloved reviled boxer memoir take u behind scene show u like deal george bush john mccain mitch mcconnell well tip clinton obama many raised jewish neighborhood brooklyn ny boxer journalist decided could make difference ran local office california inspired fight tooth nail help bring american dream perfect union fruition behind closed door secret negotiating room boxe\nground truth: politics\npredict: politics\nnovel remarkable depth poignancy one acclaimed writer time july florence talented musician dream career concert stage perfect life create edward earnest young history student university college london unexpectedly wooed heart newly married morning virgin edward florence arrive hotel dorset coast dinner room struggle suppress worry wedding night come edward eager rapture fret florence response advance nurse private fear failure florence anxiety run deeper overcome sheer disgust idea physical contact dread disappointing husband finally lie together honeymoon suite ian mcewan caught understanding compassion innocence edward florence time marriage presumed\nground truth: romance\npredict: historical\ntwo woman competing man heart two queen fighting death dominance untold story mary queen scot dazzling novel new york time bestselling author philippa gregory present new unique view one history intriguing romantic maddening heroine biographer often neglect captive year mary queen scot trusted queen elizabeth promise sanctuary fled rebel scotland found imprisoned guest george talbot earl shrewsbury indomitable wife be hardwick newly married couple welcome doomed queen home certain serving host jailer bring advantage cutthroat world elizabethan court horror find task bankrupt home becomes epicenter intrigue rebellion elizabeth loyalty sovereign come\nground truth: historical\npredict: historical\nflirtatious confident rebellious teenager transformed understandably confused frightened dog tramp magical power sandra lot growing quickly survive scrounging stray competitive rough dog world must clearest thinking life work whether want recover humanity doubly difficult brain must think reduced scattered consciousness dog reality situation pose enormous problem find experiencing physical aspect dog including running pack going heat\nground truth: young-adult\npredict: young-adult\nla fin du xixe siècle le mythe de salomé suscite chez le artiste une fascination à nulle autre pareille la princesse de judée qui incarne la femme naturelle abominable selon le mot de baudelaire devient une figure majeure de décadent inspirant indifféremment peintres poètes et romanciers de cette danseuse fatale wilde donna dans salomé de interprétations le plus marquantes de de la littérature la tension croissante de ce drame en un acte traduit la montée du désir monstrueux de salomé la fille pour le prophète iokanaan cruauté sacrilège étrangeté et érotisme se mêlent dans cette pièce dont mallarmé salua le perpétuels trait éblouissants et dont pierre loti pu dire beau et sombre comme un chapitre de\nground truth: drama\npredict: adventure\nyear ago david eliot would given anything see end groosham grange ghastly teacher track win unholy grail cup magical power rewarded star student series suspicious mishap closing gap david new boy vincent seems though someone thing want david win cup may even threatening groosham grange existence\nground truth: fantasy\npredict: fantasy\ndetective alex cross must confront terrifying nemesis deepest electrifying new thriller master suspense james cross never believed vampire two jogger found slain manner suggests macabre ritual reconsider someone belief vampire enough committed series bizarre murder appear work one local police horrified even fbi take case plunge netherworld secret club world full poseur someone demented enough crossed line dark ritual real blood time lethal cross past known mastermind stalking taunting threatening everything hold dear cross never closer defeat greater danger shocking conclusion alex cross must survive deadly\nground truth: mystery\npredict: mystery\nsheryl sandberg facebook coo ranked eighth fortune list powerful woman business become one america galvanizing leader icon million woman juggling work family lean urge woman take risk seek new challenge find work love remain passionately engaged highest level throughout life lean sheryl sandberg provocative inspiring book woman power grew electrifying ted talk sandberg gave expressed concern progress woman achieving major leadership position stalled talk became phenomenon since viewed nearly two million time lean fuse humorous personal anecdote singular lesson confidence leadership practical advice woman based research data experience experience woman age sandberg uncanny gift cutti\nground truth: business\npredict: business\nillicit affair unsolved murder intense summer romance cape cod introducing holly lecraw explosive debut seven summer ago cape cod marcella atkinson married woman fell love cecil mcclatchey married father two fuelled desire mutual respect secret affair blossomed cecil wife murdered romance promptly ended cecil died soon wife murder never solved remains suspect year later marcella return beach house cape encounter cecil grown son jed remembers quite vividly youth struggle cope grief loss past fall torrid complicated affair relationship deepens lead emotional crisis revelation unsolved murder jed mother brilliant seductive debut novel love form ripple effe\nground truth: mystery\npredict: mystery\nhumanity continues fight right future rentaro enemy sinister kagetane hiruko another gigantic stage five gastrea threatens destroy everything rentaro worked protect overwhelming odds demand unthinkable sacrifice even may enough sometimes said done really need large gun humanity continues fight right future rentaro enemy sinister kagetane hiruko another gigantic stage five gastrea threatens destroy everything rentaro worked protect overwhelming odds demand unthinkable sacrifice sometimes even may enough\nground truth: mystery\npredict: mystery\npink mist three young soldier bristol deployed afghanistan school friend still teen arthur hads taff reason enlisting within short space time return woman life mother wife girlfriend must share psychological physical aftershock service work great dramatic power documentary integrity emotional intensity pink mist us everyday yet heightened speech excavate human cost modern warfare drawing upon interview soldier family well ancient text medieval welsh poem gododdin first extended lyric narrative emerge devastating conflict afghanistan\nground truth: drama\npredict: historical\nxandra vardan thought life would simpler accepted goblin crown became queen life become complicated everyone vampire werewolf human want goblin side whoever goblin win queen victoria want head alpha wolf vex want heart still know identity person wanted blood know project one aristocrat lab gotten free one stop perfect killing machine sixteen girl human zealot intent ridding world anyone plagued blood supernatural politics taking britain verge civil war xandra finding queen cracked something fast shortest reign history fantastic conclusion series started spectacular undead steampunk debut god save th\nground truth: fantasy\npredict: fantasy\nheartbreaking contemporary romance newbery honor winning author jeremiah feel good inside skin brooklyn neighborhood going attending fancy prep school manhattan black teenage boy exactly fit surprise meet ellie first week school one frozen moment eye lock know fit together even though jewish black world different matter bad rest world get way reviewer called coretta scott king author jacqueline woodson work exceptional publisher weekly wrenchingly honest school library journal said offer perspective racism elitism rarely found fiction age group publisher weekly come softly delivers powerful story interracial love leaf reade\nground truth: young-adult\npredict: young-adult\nlondon veterinarian maz harwood learned hard way love work mix emma best friend vet school asks look practice english countryside six month maz decides change scenery need country life trickier could imagined one thing trade smart heel wellies another deal unwelcoming local intense rivalry town vet practice worse yet realization friend practice bad shape maz broken heart thing get even complicated meet rival dashing son totally unsuitable prospect maz win local save life patient keep emma practice going find love cathy woodman fresh new voice woman fiction written warm breezy romantic comedy enough mishap plenty adorable\nground truth: chick-lit\npredict: romance\nspecial illustrated edition new york time bestselling thomas jefferson art power pulitzer author jon meacham young reader learn life political philosophy one founding father thomas jefferson third president united state one author declaration independence also lawyer ambassador inventor scientist wide range interest hobby consuming interest survival success united state book contains note meacham archival illustration well section throughout text subject boston tea party library congress napoléon bonaparte additional material include time line family tree jefferson world section jefferson original writing correspondence invention interest place jefferson world findin\nground truth: history\npredict: history\nfate lead stranger land darker magic travelling ever dangerous realm garion companion pursue stolen orb among ce nedra imperial princess one whose fate seems bound get closer goal battle loom garion power sorcery spirit tested limit\nground truth: fantasy\npredict: fantasy\nbarnes amp noble review alpha male come alpha christine feehan carpathian hero rafael de la cruz everything elegant vampire hunter scream sin sex meet match proud independent cowgirl colby jensen colby struggling keep family farm afloat take care younger stepsiblings two relative de la cruz brother turn looking take child back family brazil rafael quickly recognizes colby soulmate despite powerful mutual attraction getting colby talk dance trust take lot effort ever encountered meantime matter discovering trying sabotage ranch harm colby family feehan delivers potent trademark blend passion adventure suspenseful sensual paranormal thriller ginger curwen\nground truth: romance\npredict: romance\nsing along loud read wild cowgirl way town\nground truth: children\npredict: young-adult\nincinerator sequel niall leonard debut ya novel crusher london ganglord guvnor hiding finn maguire begun new life running boxing gym old friend coach delroy finn lawyer nicky hale vanishes overnight money finn find hock loan shark vicious gang enforcer desperate track nicky repay debt finn investigates client soon find engulfed web lie betrayal malice madness hardcover edition\nground truth: young-adult\npredict: young-adult\nunfathomable riddle ancient greek roman german history book work short day forty year grappled subject mastered fully therefore work one epochal publication time following demonstration reader whole easily distinguish originated morgan added historical section greece rome limited\nground truth: philosophy\npredict: history\nfrontier justice gripping exploration refugee crisis combining reporting history political philosophy andy lamey set explain story behind radical increase global number effect north america europe increasing unwillingness admit follows extraordinary effort set yale law student sued government behalf group refugee imprisoned guantánamo bay recount one refugee family harrowing journey saddam hussein iraq contemporary australia via world dangerous ocean crossing explores fascinating case ahmed ressam millennium bomber filed refugee claim canada attempting blow los angeles airport lamey cast new light host broader subject reason terrorist pose refugee overwhelming failure rate hidden benefit multicu\nground truth: politics\npredict: history\nbeloved writer california cooper legion loyal fan much critical acclaim powerful storytelling gift language spare direct yet wondrously lyrical life short wide irresistible story family prof matter never old chase dream like small town california cooper vividly portrayed previous novel story collection wideland oklahoma home ordinary american struggling raise family eke living fulfill dream early twentieth century irene val fall love wideland carving home also allow neighbor bertha joseph build house live land next generation brings two girl irene val daughter bertha joseph family cope hardship come changing time fortune people born pas away characte\nground truth: historical\npredict: historical\nnypd red chase ruthless murderer uncontrollable lust money blood another glamorous night heart manhattan glitzy movie premiere gorgeous starlet dressed nine dripping million dollar worth jewelry loan make way past horde fan paparazzo sudden loud noise even louder scream vicious crime million witness suspect nypd red new case hand nypd red elite task force assigned protect rich famous connected city crime never sleep detective zach jordan partner kylie macdonald former girlfriend police academy quite gotten best red offer brilliant tireless investigator stop nothing crack case even mean putting complicated life back burner celebrity penthouse depth manhattan crim\nground truth: mystery\npredict: mystery\nprofoundly inspiring fully documented saga joan arc young peasant girl whose voice moved rally french nation reluctant king british invader fascinated artistic figure diverse william shakespeare mark twain voltaire george bernard shaw bertolt brecht carl dreyer robert bresson divinely inspired saint schizophrenic demonically possessed heretic persecutor captor tried prove every era must retell reimagine maid orleans extraordinary story way joan arc life transfigured superb novelist memoirist kathryn harrison give u joan shining exemplar unshakable faith extraordinary courage brutally rigged ecclesiastical inquisition face death burning deftly weaving historical fact myth folklore artistic representation century scholarly critical interp\nground truth: history\npredict: history\nriveting chronicle extraordinary debut year washington team brought america pastime back nation capital first time three quickly emerged team watch season started freezing trailer parked outside rfk tailgate official front office major league baseball newest team crammed spartan space tony tavares washington national newly appointed president began monumental task fashioning big league team would six month road usher baseball back nation capital barry svrluga sport reporter washington post followed saga national early intense political wrangling bringing team washington defining triumphant moment anguish season savvy observer washington major league\nground truth: history\npredict: biography\nsurprising gripping narrative depicting thinker whose idea shaped contemporary china india muslim world little century ago japanese navy annihilated giant russian one battle tsushima original thinker across asia working independently sought frame distinctly asian intellectual tradition would inform inspire continent anticipated rise dominance asian dominance come pas gandhi later nehru india liang qichao sun yatsen china jamal abdurreshi al ibrahim ruin ottoman seen outrider main anticolonial tradition pankaj mishra show otherwise book enthralling group portrait like mind scattered across vast continent make clear modern asia revolt west one led terrorist thwarte\nground truth: history\npredict: history\nencyclopaedia encompasses entire range psychoactive substance also great number synthetic drug compound coverage extends use intoxicating plant neanderthal man role hallucinogen narcotic contemporary youth culture basic data provided botany chemistry intoxicant author examines influence level culture society also tackle controversial issue legalization detail legal classification illicit substance alongside additional relevant information detection prevention punishment criminological subject\nground truth: science\npredict: history\nage thirty dissident artist jian find divorced wife separated daughter betrayed girlfriend facing arrest spiritual pollution severely disillusioned confines life beijing little change clothes two bar soap take immerse remotest part china journey would last three year take city mountain village scene barbarity haven tranquility remarkably written subtly moving result insight teeming contradiction china man insider outsider country could written\nground truth: travel\npredict: history\nclassic cosmic horror arthur machen famous story journey fear madness darkest region unknown woman rendered catatonic doctor botched attempt brain surgery surgery seems opened woman forbidden fold existence place meant human eye place great god pan dwells year later men good position begin committing suicide heinous way apparent reason behind trail body mysterious woman connection suicide even disturbing secret share catatonic victim horrid medical experiment devastated woman shown horror great god pan part broken ground series novella broken ground project series classic novella influenced revolutionized perfected art storytelling groundbreaking story forced boundary\nground truth: horror\npredict: horror\ntwo year camp green lake armpit home austin record everyone expects worst except disabled neighbor ginny take small step right path camp pal idea teen pop sensation kaira deleon spin life control right thing never wrong choice small step right direction\nground truth: young-adult\npredict: young-adult\ndrawing exclusive unprecedented access david hockney extensive archive notebook painting interview family friend hockney christopher simon sykes provides colorful intimate portrait one influential artist twentieth century born david hockney grew northern english town day postwar austerity time ten year old knew wanted artist leaving school went study bradford art college later royal college art london bursting onto scene young contemporary exhibition hockney quickly heralded golden boy postwar british art leading proponent pop art swinging london befriended many seminal cultural figure generation throughout year hockney career grew always absorbed work drew painted etched long hour\nground truth: art\npredict: art\nwealthy emmett condon good man gentleman professes advance numerous business deal legal shady like certainly one would ever mistake hero save infatuated ward last three year priscilla virginal young lady promised mentor wed unfortunately ward see carefully orchestrated illusion invention making man exist taking pity priscilla emmett reveals true self prior marriage ward flees escape stark horror priscilla indeed run emmett man always loved horror night eighteenth birthday corruption innocence forget run craves debasement craves even discovering commitment sham forsaking attraction dominance dominance beyond bound\nground truth: historical\npredict: romance\nwelcome woundabout routine rule change feared transformation wind wake tragedy sibling connor cordelia pet capybara sent precariously perched town woundabout live eccentric aunt woundabout place mayor declared routine rule one allowed question already know answer connor cordelia ca help curiosity discover mysterious crank fit certain part town winding crank place transformed something beautiful townspeople see transformation see beauty see change change mayor say something fear mayor hot trail connor cordelia find way wind woundabout back life\nground truth: fantasy\npredict: fantasy\ndark magic jim swain peter warlock magician dark secret every night amazes audience private theater new york performs feat boggle imagination day job cover otherworldly pursuit peter member underground group psychic gaze future help prevent crime one even girlfriend know truth séance foresees unspeakable act violence devastate city peter friend rush prevent tragedy peter discovers shadowy cult evil psychic order astrum know ability hunting fellow psychic one one determined silence forever\nground truth: fantasy\npredict: fantasy\nnew york time usa today bestselling author veronica rossi new fantasy adventure rider series seeker daryn claimed seeing vision sophomore year high school one believed truth losing mind gaining sight ability see future paid attention vision provide clue show could help people really help daryn embraced role seeker work important saved life sebastian sebastian first worst mistake since moment inadvertently sealed dark dimension samrael last surviving demon kindred guilt plagued daryn know sebastian alive waiting help rescue need sight ever guide vision stopped daryn must rely instinct intelligence blind faith lead\nground truth: fantasy\npredict: fantasy\nback cover bestselling science writer john gribbin beginning go beyond big bang put forward radical new idea universe one making cosmologist think like biologist relying recently confirmed theory ripple fabric gribbin examines universe product evolution natural selection echoing extending gaia principle living thing earth regarded single living organism controversial accessibe beginning full surprise wonderment important scientific implication history fate universe\nground truth: science\npredict: science\nhaste flee palace fairy godmother magic loses effect cinderella leaf behind glass slipper\nground truth: fantasy\npredict: fantasy\nprofessor abraham van helsing fictional creation bram stoker dark work fantasy dracula fragment recently discovered journal suggest otherwise first time word legendary vampire hunter tell story background early year research rumania mideast medical work importantly discovery perhaps greatest threat man dominion earth vampire filled data inform tip educate journal study vampirism also story man obsession eradicating world greatest scourge dark evil claimed wife thrall working textural fragment inherited grandfather professor allen conrad kupfer managed piece together story behind story begin end bram stoker dracula\nground truth: horror\npredict: horror\nreally like prince horror british schoolboy alex varenhoff find monarchy restored tiny country rovenia see motto rovenia stand bravery honor none matter alex varenhoff though always aware tie ancient monarchy rovenia tossed varenhoff dynasty long ago communist took rovenia find need leadership king alex must leave home england assume role rovenia prince thrust life never raised alex hate pomp circumstance horde screaming girl wait everywhere new life dangerous rovenians oppose monarchy becoming true prince present alex heartbreaking challenge far beyond anything ever expected one greatest challenge varenhoff ever face hardcover edit\nground truth: young-adult\npredict: young-adult\nkiller placing cross hair american heartland pair frozen corps found tarp machine shed empty farmhouse two male brother killed bullet russian automatic fired close range cop suspect man deputy sheriff carl houseman busted five year earlier county lead suspect series recent know wrong guy also know got something bigger burglary gone bad especially fbi start showing maitland brutal double homicide tip iceberg case killer trail keep disappearing like footprint freshly fallen snow one bad break send good cop deep freeze\nground truth: mystery\npredict: mystery\nhenry love first grade except reading called class henry freeze teacher discovers henry like read ca extra help henry begin feel confident word letter little brother desperately want know ending book henry save day\nground truth: children\npredict: children\n"
     ]
    }
   ],
   "source": [
    "pd.options.display.max_colwidth = 1000\n",
    "\n",
    "print(len(X_test))\n",
    "print(type(y_test))\n",
    "print(type(y_pred))\n",
    "\n",
    "for i in range(3,100):\n",
    "    print(X_test.iloc[i])\n",
    "    print(\"ground truth: {}\".format(str(y_test.iloc[i])))\n",
    "    print(\"predict: {}\".format(str(y_pred[i])))\n",
    "\n"
   ]
  },
  {
   "cell_type": "code",
   "execution_count": 15,
   "metadata": {},
   "outputs": [],
   "source": []
  },
  {
   "cell_type": "code",
   "execution_count": 15,
   "metadata": {},
   "outputs": [],
   "source": []
  }
 ],
 "metadata": {
  "kernelspec": {
   "display_name": "Python 2",
   "language": "python",
   "name": "python2"
  },
  "language_info": {
   "codemirror_mode": {
    "name": "ipython",
    "version": 2
   },
   "file_extension": ".py",
   "mimetype": "text/x-python",
   "name": "python",
   "nbconvert_exporter": "python",
   "pygments_lexer": "ipython2",
   "version": "2.7.6"
  }
 },
 "nbformat": 4,
 "nbformat_minor": 0
}
